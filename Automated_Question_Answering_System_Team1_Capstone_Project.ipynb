{
  "nbformat": 4,
  "nbformat_minor": 0,
  "metadata": {
    "colab": {
      "name": "Automated Question-Answering System -Team1 - Capstone Project.ipynb",
      "provenance": [],
      "collapsed_sections": [],
      "authorship_tag": "ABX9TyOg11fe5AcRKu3C0rqmpBqy",
      "include_colab_link": true
    },
    "kernelspec": {
      "name": "python3",
      "display_name": "Python 3"
    },
    "language_info": {
      "name": "python"
    }
  },
  "cells": [
    {
      "cell_type": "markdown",
      "metadata": {
        "id": "view-in-github",
        "colab_type": "text"
      },
      "source": [
        "<a href=\"https://colab.research.google.com/github/Dilavarj7/Automated-Question-Answering-System--Team1---Capstone-Project/blob/main/Automated_Question_Answering_System_Team1_Capstone_Project.ipynb\" target=\"_parent\"><img src=\"https://colab.research.google.com/assets/colab-badge.svg\" alt=\"Open In Colab\"/></a>"
      ]
    },
    {
      "cell_type": "markdown",
      "metadata": {
        "id": "GluC4cH31uz4"
      },
      "source": [
        "# **Problem Statement**\n",
        "We will solve the above-mentioned challenge by applying deep learning algorithms to textual data.\n",
        "The solution to this problem can be obtained through Extractive Question Answering wherein we can\n",
        "extract an answer from a text given the question.\n",
        "###1.2.1 Topic Modelling\n",
        "This is a theme extraction task on a collection of Data Science specific documents which can be done\n",
        "via Latent Dirichlet Allocation (LDA). The topic model should identify the important themes of a\n",
        "document and list down the top-N constituent words of the themes/topics.\n",
        "###1.2.2 Extractive Question Answering\n",
        "Extractive Question Answering is the task of extracting an answer from a text given a question. The\n",
        "text would essentially be the group of documents that have the highest concentration of the topic\n",
        "closest to the asked question.\n"
      ]
    },
    {
      "cell_type": "markdown",
      "metadata": {
        "id": "YC_M4lSR2BVh"
      },
      "source": [
        "## **1.2.2.1 Head-start References**\n",
        "❖ https://scikit-learn.org/stable/modules/generated/sklearn.decomposition.LatentDirichletAll\n",
        "ocation.html\n",
        "<br>❖ https://pyldavis.readthedocs.io/en/latest/readme.html\n",
        "<br>❖ https://huggingface.co/transformers/usage.html#extractive-question-answering\n",
        "###NOTE - The solution should not be limited to the above references; students are encouraged to read relevant research papers.\n",
        "### 1.3 Scope of project\n",
        "<br>A. The topic model should be able to identify/extract important topics.\n",
        "<br>B. The topic model would be built on the corpus of Data Science documents.\n",
        "<br>C. The topic model should yield the most relevant and stable topics measured through the\n",
        "perplexity score.\n",
        "<br>D. Once the relevant documents have been retrieved, the extractive question answering\n",
        "<br>model would generate the answer for the question.\n",
        "<br>E. The entire dual-model pipeline would be deployed in AWS/GCP/Azure\n",
        "<br>F. The dual-model pipeline must be accessible via a web application(Streamlit) for demo\n",
        "purpose.\n"
      ]
    },
    {
      "cell_type": "markdown",
      "metadata": {
        "id": "NRrzwEc2EXWc"
      },
      "source": [
        "## Word2Vec Implemenation Part:\n",
        "\n"
      ]
    },
    {
      "cell_type": "code",
      "metadata": {
        "id": "meWJQIbqEjaY"
      },
      "source": [
        ""
      ],
      "execution_count": null,
      "outputs": []
    },
    {
      "cell_type": "markdown",
      "metadata": {
        "id": "XtvApPURwOLS"
      },
      "source": [
        "# **Project Title : All The News**\n",
        "\n",
        "---\n",
        "### I wanted to see how articles clustered together if the articles were rendered into document-term matrices---would there be greater affinity among political affiliations, or medium, subject matter, etc. The data was scraped using BeautifulSoup and stored in Sqlite, but I've chopped it up into three separate CSVs here, because the entire Sqlite database came out to about 1.2 gb, beyond Kaggle's max.\n",
        "\n",
        "###The publications include the New York Times, Breitbart, CNN, Business Insider, the Atlantic, Fox News, Talking Points Memo, Buzzfeed News, National Review, New York Post, the Guardian, NPR, Reuters, Vox, and the Washington Post. Sampling wasn't quite scientific; I chose publications based on my familiarity of the domain and tried to get a range of political alignments, as well as a mix of print and digital publications. By count, the publications break down accordingly:\n",
        "###The data primarily falls between the years of 2016 and July 2017, although there is a not-insignificant number of articles from 2015, and a possibly insignificant number from before then.\n",
        "\n",
        "## **Content**\n",
        "### articles.csv - 50,000 news articles (Articles 1-50,000)\n",
        "\n",
        "\n"
      ]
    },
    {
      "cell_type": "markdown",
      "metadata": {
        "id": "mAoeBzVdxbkT"
      },
      "source": [
        "## **Important Library**"
      ]
    },
    {
      "cell_type": "code",
      "metadata": {
        "id": "LWT5Gsq3wxIL"
      },
      "source": [
        "import numpy as np\n",
        "import pandas as pd\n",
        "import nltk\n",
        "from nltk import word_tokenize\n",
        "from nltk.tokenize import sent_tokenize\n",
        "from string import punctuation\n",
        "from nltk.corpus import stopwords\n",
        "import seaborn as sns\n",
        "import matplotlib.pyplot as plt"
      ],
      "execution_count": null,
      "outputs": []
    },
    {
      "cell_type": "code",
      "metadata": {
        "id": "jGf_L-ACqaan"
      },
      "source": [
        "import warnings\n",
        "warnings.filterwarnings('ignore')\n",
        "import re  # For preprocessing\n",
        "from sklearn.manifold import TSNE\n",
        "from numpy import dot\n",
        "from numpy.linalg import norm"
      ],
      "execution_count": null,
      "outputs": []
    },
    {
      "cell_type": "code",
      "metadata": {
        "colab": {
          "base_uri": "https://localhost:8080/"
        },
        "id": "ISsEhDHTxjt0",
        "outputId": "433ea469-5ea8-4492-87de-ac29309a6c6a"
      },
      "source": [
        "from google.colab import drive\n",
        "drive.mount('/content/drive')"
      ],
      "execution_count": null,
      "outputs": [
        {
          "output_type": "stream",
          "text": [
            "Drive already mounted at /content/drive; to attempt to forcibly remount, call drive.mount(\"/content/drive\", force_remount=True).\n"
          ],
          "name": "stdout"
        }
      ]
    },
    {
      "cell_type": "code",
      "metadata": {
        "id": "rwkSOXzFwxLK"
      },
      "source": [
        "articles_df = pd.read_csv('/content/drive/MyDrive/AlmaBetter/Document Profiling/dat/' + 'articles.csv')"
      ],
      "execution_count": null,
      "outputs": []
    },
    {
      "cell_type": "code",
      "metadata": {
        "id": "LfKdK8yuyHwf"
      },
      "source": [
        "del articles_df['Unnamed: 0']\n",
        "#As we can see we don't have any record for url feature so we can drop that colums\n",
        "del articles_df['url']\n",
        "#Handling Null Value\n",
        "articles_df['author'] = articles_df['author'].fillna(\"\")"
      ],
      "execution_count": null,
      "outputs": []
    },
    {
      "cell_type": "code",
      "metadata": {
        "id": "B7J4hFJQ7m7_"
      },
      "source": [
        "articles_df['content_length']=articles_df['content'].apply(len)\n",
        "articles_df = articles_df[(articles_df['content_length'] > 2000) & (articles_df['content_length'] < 2500)]"
      ],
      "execution_count": null,
      "outputs": []
    },
    {
      "cell_type": "code",
      "metadata": {
        "colab": {
          "base_uri": "https://localhost:8080/",
          "height": 106
        },
        "id": "K21UkkZ07m1q",
        "outputId": "97df4f19-4078-49c1-8b95-20c76e092abf"
      },
      "source": [
        "articles_df = articles_df.reset_index()\n",
        "del articles_df['index']\n",
        "articles_df.head(2)"
      ],
      "execution_count": null,
      "outputs": [
        {
          "output_type": "execute_result",
          "data": {
            "text/html": [
              "<div>\n",
              "<style scoped>\n",
              "    .dataframe tbody tr th:only-of-type {\n",
              "        vertical-align: middle;\n",
              "    }\n",
              "\n",
              "    .dataframe tbody tr th {\n",
              "        vertical-align: top;\n",
              "    }\n",
              "\n",
              "    .dataframe thead th {\n",
              "        text-align: right;\n",
              "    }\n",
              "</style>\n",
              "<table border=\"1\" class=\"dataframe\">\n",
              "  <thead>\n",
              "    <tr style=\"text-align: right;\">\n",
              "      <th></th>\n",
              "      <th>id</th>\n",
              "      <th>title</th>\n",
              "      <th>publication</th>\n",
              "      <th>author</th>\n",
              "      <th>date</th>\n",
              "      <th>year</th>\n",
              "      <th>month</th>\n",
              "      <th>content</th>\n",
              "      <th>content_length</th>\n",
              "    </tr>\n",
              "  </thead>\n",
              "  <tbody>\n",
              "    <tr>\n",
              "      <th>0</th>\n",
              "      <td>17323</td>\n",
              "      <td>Airline Pilot, Believed to Be Drunk, Is Pulled...</td>\n",
              "      <td>New York Times</td>\n",
              "      <td>Ian Austen</td>\n",
              "      <td>2017-01-03</td>\n",
              "      <td>2017.0</td>\n",
              "      <td>1.0</td>\n",
              "      <td>OTTAWA  —   It was 7 a. m. and 99 passengers a...</td>\n",
              "      <td>2482</td>\n",
              "    </tr>\n",
              "    <tr>\n",
              "      <th>1</th>\n",
              "      <td>17338</td>\n",
              "      <td>It’s Time to Ignore Advice About Which Stocks ...</td>\n",
              "      <td>New York Times</td>\n",
              "      <td>Damon Darlin</td>\n",
              "      <td>2017-01-09</td>\n",
              "      <td>2017.0</td>\n",
              "      <td>1.0</td>\n",
              "      <td>It’s that time of year when financial advice s...</td>\n",
              "      <td>2221</td>\n",
              "    </tr>\n",
              "  </tbody>\n",
              "</table>\n",
              "</div>"
            ],
            "text/plain": [
              "      id  ... content_length\n",
              "0  17323  ...           2482\n",
              "1  17338  ...           2221\n",
              "\n",
              "[2 rows x 9 columns]"
            ]
          },
          "metadata": {
            "tags": []
          },
          "execution_count": 9
        }
      ]
    },
    {
      "cell_type": "code",
      "metadata": {
        "colab": {
          "base_uri": "https://localhost:8080/"
        },
        "id": "WZRZ_KTwdb5Q",
        "outputId": "9135427e-a64a-4277-f877-7ae85925def5"
      },
      "source": [
        "articles_df.info()"
      ],
      "execution_count": null,
      "outputs": [
        {
          "output_type": "stream",
          "text": [
            "<class 'pandas.core.frame.DataFrame'>\n",
            "RangeIndex: 5559 entries, 0 to 5558\n",
            "Data columns (total 9 columns):\n",
            " #   Column          Non-Null Count  Dtype  \n",
            "---  ------          --------------  -----  \n",
            " 0   id              5559 non-null   int64  \n",
            " 1   title           5559 non-null   object \n",
            " 2   publication     5559 non-null   object \n",
            " 3   author          5559 non-null   object \n",
            " 4   date            5559 non-null   object \n",
            " 5   year            5559 non-null   float64\n",
            " 6   month           5559 non-null   float64\n",
            " 7   content         5559 non-null   object \n",
            " 8   content_length  5559 non-null   int64  \n",
            "dtypes: float64(2), int64(2), object(5)\n",
            "memory usage: 391.0+ KB\n"
          ],
          "name": "stdout"
        }
      ]
    },
    {
      "cell_type": "code",
      "metadata": {
        "colab": {
          "base_uri": "https://localhost:8080/",
          "height": 120
        },
        "id": "6j6PT_CudlgJ",
        "outputId": "8a300032-ac4d-437a-fecb-4f804b3abdbb"
      },
      "source": [
        "articles_df['content'][0]"
      ],
      "execution_count": null,
      "outputs": [
        {
          "output_type": "execute_result",
          "data": {
            "application/vnd.google.colaboratory.intrinsic+json": {
              "type": "string"
            },
            "text/plain": [
              "'OTTAWA  —   It was 7 a. m. and 99 passengers and six crew members were aboard a 737 on the tarmac at Calgary International Airport, bound for a sunny holiday in Cancun, Mexico. There was one problem, however. The flight’s captain was passed out in the cockpit, apparently from drinking. The police in Calgary, Alberta, arrested the pilot, Miroslav Gronych, 37, on Saturday and have charged him with two   offenses. “This is a new one, and obviously this had a very significant potential to cause great harm had the pilot actually been allowed to fly this plane,” Staff Sgt. Paul Stacey of the Calgary Police Service said at a news conference. “There’s just so many checks and balances, it just doesn’t surprise me that he got caught before this plane was able to leave the gate. ” Nevertheless, Inspector Ken Thrower, the commander of the Calgary Police Service’s traffic and airport unit, said his officers, along with airport officials and inspectors from Transport Canada, the aviation regulator, will begin trying to figure out how the pilot managed to pass through several checkpoints, including airport security, while obviously inebriated. Mr. Gronych was charged with two criminal offenses: having care and control of an aircraft while impaired, and having care and control of an aircraft while testing for more than 80 milligrams of alcohol per 100 milliliters of blood. “He was pretty high,” Sergeant Stacey said, adding that it was inconceivable that the pilot had followed Transport Canada regulations that bar drinking or drug use by pilots within eight hours of a flight. The aircraft was operated by Sunwing Airlines, a   carrier based in Toronto. Sunwing’s gate agents found the pilot’s behavior to be unusual and alerted the  . The   then discovered the pilot slumped in the captain’s seat and “severely impaired by alcohol,” Sergeant Stacey said. Transport Canada, which did not respond to requests for comment, is conducting a separate investigation, which is likely to result in additional charges, the police said. Inspector Thrower said Mr. Gronych is from Slovenia and is in Canada on a work visa. He will appear in court again on Thursday. After some delay, the flight did take off with a new crew. Sunwing did not respond to requests for comment. Janine Massey, a spokeswoman, told The Associated Press that the carrier was “very apologetic for any upset that this has caused and would like to assure our customers that safety remains our utmost priority. ”'"
            ]
          },
          "metadata": {
            "tags": []
          },
          "execution_count": 12
        }
      ]
    },
    {
      "cell_type": "markdown",
      "metadata": {
        "id": "1gZ7XPeUyX4M"
      },
      "source": [
        "## **function which removes punctuation and stopwords from our data**"
      ]
    },
    {
      "cell_type": "code",
      "metadata": {
        "id": "jGdh6CP4y5sh"
      },
      "source": [
        "# Functions for presprocessing data\n",
        "import nltk\n",
        "import string\n",
        "from nltk.corpus import stopwords\n",
        "from nltk.tokenize import RegexpTokenizer\n",
        "from nltk.stem import WordNetLemmatizer\n",
        "from nltk.stem.porter import PorterStemmer"
      ],
      "execution_count": null,
      "outputs": []
    },
    {
      "cell_type": "code",
      "metadata": {
        "colab": {
          "base_uri": "https://localhost:8080/"
        },
        "id": "CWekCwlS6kfb",
        "outputId": "b0e6a557-1053-440a-fed6-934670fce705"
      },
      "source": [
        "import nltk\n",
        "nltk.download('stopwords')"
      ],
      "execution_count": null,
      "outputs": [
        {
          "output_type": "stream",
          "text": [
            "[nltk_data] Downloading package stopwords to /root/nltk_data...\n",
            "[nltk_data]   Unzipping corpora/stopwords.zip.\n"
          ],
          "name": "stdout"
        },
        {
          "output_type": "execute_result",
          "data": {
            "text/plain": [
              "True"
            ]
          },
          "metadata": {
            "tags": []
          },
          "execution_count": 14
        }
      ]
    },
    {
      "cell_type": "code",
      "metadata": {
        "id": "9-l7oLtFwGEP"
      },
      "source": [
        "def text_process(msg):\n",
        "    nopunc =[char for char in msg if char not in string.punctuation]\n",
        "    nopunc=''.join(nopunc)\n",
        "    return ' '.join([word for word in nopunc.split() if word.lower() not in stopwords.words('english')])"
      ],
      "execution_count": null,
      "outputs": []
    },
    {
      "cell_type": "code",
      "metadata": {
        "id": "Bs6FX8vo6S6m"
      },
      "source": [
        "articles_df['final_text'] = articles_df['content'].apply(text_process)"
      ],
      "execution_count": null,
      "outputs": []
    },
    {
      "cell_type": "code",
      "metadata": {
        "colab": {
          "base_uri": "https://localhost:8080/",
          "height": 120
        },
        "id": "mMqjGMRb-Sw4",
        "outputId": "358d2062-cbe8-41c9-8cd1-f5e4891980ec"
      },
      "source": [
        "articles_df['final_text'][0]"
      ],
      "execution_count": null,
      "outputs": [
        {
          "output_type": "execute_result",
          "data": {
            "application/vnd.google.colaboratory.intrinsic+json": {
              "type": "string"
            },
            "text/plain": [
              "'OTTAWA — 7 99 passengers six crew members aboard 737 tarmac Calgary International Airport bound sunny holiday Cancun Mexico one problem however flight’s captain passed cockpit apparently drinking police Calgary Alberta arrested pilot Miroslav Gronych 37 Saturday charged two offenses “This new one obviously significant potential cause great harm pilot actually allowed fly plane” Staff Sgt Paul Stacey Calgary Police Service said news conference “There’s many checks balances doesn’t surprise got caught plane able leave gate ” Nevertheless Inspector Ken Thrower commander Calgary Police Service’s traffic airport unit said officers along airport officials inspectors Transport Canada aviation regulator begin trying figure pilot managed pass several checkpoints including airport security obviously inebriated Mr Gronych charged two criminal offenses care control aircraft impaired care control aircraft testing 80 milligrams alcohol per 100 milliliters blood “He pretty high” Sergeant Stacey said adding inconceivable pilot followed Transport Canada regulations bar drinking drug use pilots within eight hours flight aircraft operated Sunwing Airlines carrier based Toronto Sunwing’s gate agents found pilot’s behavior unusual alerted discovered pilot slumped captain’s seat “severely impaired alcohol” Sergeant Stacey said Transport Canada respond requests comment conducting separate investigation likely result additional charges police said Inspector Thrower said Mr Gronych Slovenia Canada work visa appear court Thursday delay flight take new crew Sunwing respond requests comment Janine Massey spokeswoman told Associated Press carrier “very apologetic upset caused would like assure customers safety remains utmost priority ”'"
            ]
          },
          "metadata": {
            "tags": []
          },
          "execution_count": 17
        }
      ]
    },
    {
      "cell_type": "code",
      "metadata": {
        "id": "99uCcmXrExo4"
      },
      "source": [
        ""
      ],
      "execution_count": null,
      "outputs": []
    },
    {
      "cell_type": "markdown",
      "metadata": {
        "id": "oYY_r8_vfGx5"
      },
      "source": [
        "# **Remove unwanted character**"
      ]
    },
    {
      "cell_type": "code",
      "metadata": {
        "id": "QKGMXcjqJ3RI"
      },
      "source": [
        "lst = ['’', '“','”',' — ']\n",
        "def text_process1(msg):    \n",
        "      msg = msg.replace(lst[0], '') \n",
        "      msg = msg.replace(lst[1], '')  \n",
        "      msg = msg.replace(lst[2], '') \n",
        "      msg = msg.replace(lst[3], '') \n",
        "      return msg\n",
        "#Function Calling\n",
        "articles_df['final_text'] = articles_df['final_text'].apply(text_process1)"
      ],
      "execution_count": null,
      "outputs": []
    },
    {
      "cell_type": "code",
      "metadata": {
        "colab": {
          "base_uri": "https://localhost:8080/",
          "height": 120
        },
        "id": "9CxMoL-MJ3Nx",
        "outputId": "97ed453e-4f34-4005-d254-a319048f4190"
      },
      "source": [
        "articles_df['final_text'][0]"
      ],
      "execution_count": null,
      "outputs": [
        {
          "output_type": "execute_result",
          "data": {
            "application/vnd.google.colaboratory.intrinsic+json": {
              "type": "string"
            },
            "text/plain": [
              "'OTTAWA7 99 passengers six crew members aboard 737 tarmac Calgary International Airport bound sunny holiday Cancun Mexico one problem however flights captain passed cockpit apparently drinking police Calgary Alberta arrested pilot Miroslav Gronych 37 Saturday charged two offenses This new one obviously significant potential cause great harm pilot actually allowed fly plane Staff Sgt Paul Stacey Calgary Police Service said news conference Theres many checks balances doesnt surprise got caught plane able leave gate  Nevertheless Inspector Ken Thrower commander Calgary Police Services traffic airport unit said officers along airport officials inspectors Transport Canada aviation regulator begin trying figure pilot managed pass several checkpoints including airport security obviously inebriated Mr Gronych charged two criminal offenses care control aircraft impaired care control aircraft testing 80 milligrams alcohol per 100 milliliters blood He pretty high Sergeant Stacey said adding inconceivable pilot followed Transport Canada regulations bar drinking drug use pilots within eight hours flight aircraft operated Sunwing Airlines carrier based Toronto Sunwings gate agents found pilots behavior unusual alerted discovered pilot slumped captains seat severely impaired alcohol Sergeant Stacey said Transport Canada respond requests comment conducting separate investigation likely result additional charges police said Inspector Thrower said Mr Gronych Slovenia Canada work visa appear court Thursday delay flight take new crew Sunwing respond requests comment Janine Massey spokeswoman told Associated Press carrier very apologetic upset caused would like assure customers safety remains utmost priority '"
            ]
          },
          "metadata": {
            "tags": []
          },
          "execution_count": 19
        }
      ]
    },
    {
      "cell_type": "code",
      "metadata": {
        "colab": {
          "base_uri": "https://localhost:8080/"
        },
        "id": "VtVaSrmqEFj1",
        "outputId": "8dea7516-170b-45a3-c777-c3216e2a1df1"
      },
      "source": [
        "import nltk\n",
        "nltk.download('wordnet') "
      ],
      "execution_count": null,
      "outputs": [
        {
          "output_type": "stream",
          "text": [
            "[nltk_data] Downloading package wordnet to /root/nltk_data...\n",
            "[nltk_data]   Unzipping corpora/wordnet.zip.\n"
          ],
          "name": "stdout"
        },
        {
          "output_type": "execute_result",
          "data": {
            "text/plain": [
              "True"
            ]
          },
          "metadata": {
            "tags": []
          },
          "execution_count": 20
        }
      ]
    },
    {
      "cell_type": "markdown",
      "metadata": {
        "id": "CvkEes47fMrv"
      },
      "source": [
        "## **Lemmatizer**"
      ]
    },
    {
      "cell_type": "code",
      "metadata": {
        "id": "tFuTEe-CGNsx",
        "colab": {
          "base_uri": "https://localhost:8080/",
          "height": 195
        },
        "outputId": "560e864f-3c22-4d6b-f499-efe31b3dde4a"
      },
      "source": [
        "def word_lemmatizer(text):\n",
        "    lemmatizer = WordNetLemmatizer()\n",
        "    lem_text = lemmatizer.lemmatize(text)\n",
        "    return lem_text\n",
        "\n",
        "articles_df['final_text'] = articles_df['final_text'].apply(word_lemmatizer)"
      ],
      "execution_count": null,
      "outputs": [
        {
          "output_type": "error",
          "ename": "NameError",
          "evalue": "ignored",
          "traceback": [
            "\u001b[0;31m---------------------------------------------------------------------------\u001b[0m",
            "\u001b[0;31mNameError\u001b[0m                                 Traceback (most recent call last)",
            "\u001b[0;32m<ipython-input-1-44bf716d5db7>\u001b[0m in \u001b[0;36m<module>\u001b[0;34m()\u001b[0m\n\u001b[1;32m      4\u001b[0m     \u001b[0;32mreturn\u001b[0m \u001b[0mlem_text\u001b[0m\u001b[0;34m\u001b[0m\u001b[0;34m\u001b[0m\u001b[0m\n\u001b[1;32m      5\u001b[0m \u001b[0;34m\u001b[0m\u001b[0m\n\u001b[0;32m----> 6\u001b[0;31m \u001b[0marticles_df\u001b[0m\u001b[0;34m[\u001b[0m\u001b[0;34m'final_text'\u001b[0m\u001b[0;34m]\u001b[0m \u001b[0;34m=\u001b[0m \u001b[0marticles_df\u001b[0m\u001b[0;34m[\u001b[0m\u001b[0;34m'final_text'\u001b[0m\u001b[0;34m]\u001b[0m\u001b[0;34m.\u001b[0m\u001b[0mapply\u001b[0m\u001b[0;34m(\u001b[0m\u001b[0mword_lemmatizer\u001b[0m\u001b[0;34m)\u001b[0m\u001b[0;34m\u001b[0m\u001b[0;34m\u001b[0m\u001b[0m\n\u001b[0m",
            "\u001b[0;31mNameError\u001b[0m: name 'articles_df' is not defined"
          ]
        }
      ]
    },
    {
      "cell_type": "code",
      "metadata": {
        "colab": {
          "base_uri": "https://localhost:8080/",
          "height": 120
        },
        "id": "5ieZ-aqmzEUa",
        "outputId": "97fd1029-a6ec-490c-c286-dc98e0f68d2d"
      },
      "source": [
        "articles_df['final_text'][0]"
      ],
      "execution_count": null,
      "outputs": [
        {
          "output_type": "execute_result",
          "data": {
            "application/vnd.google.colaboratory.intrinsic+json": {
              "type": "string"
            },
            "text/plain": [
              "'OTTAWA7 99 passengers six crew members aboard 737 tarmac Calgary International Airport bound sunny holiday Cancun Mexico one problem however flights captain passed cockpit apparently drinking police Calgary Alberta arrested pilot Miroslav Gronych 37 Saturday charged two offenses This new one obviously significant potential cause great harm pilot actually allowed fly plane Staff Sgt Paul Stacey Calgary Police Service said news conference Theres many checks balances doesnt surprise got caught plane able leave gate  Nevertheless Inspector Ken Thrower commander Calgary Police Services traffic airport unit said officers along airport officials inspectors Transport Canada aviation regulator begin trying figure pilot managed pass several checkpoints including airport security obviously inebriated Mr Gronych charged two criminal offenses care control aircraft impaired care control aircraft testing 80 milligrams alcohol per 100 milliliters blood He pretty high Sergeant Stacey said adding inconceivable pilot followed Transport Canada regulations bar drinking drug use pilots within eight hours flight aircraft operated Sunwing Airlines carrier based Toronto Sunwings gate agents found pilots behavior unusual alerted discovered pilot slumped captains seat severely impaired alcohol Sergeant Stacey said Transport Canada respond requests comment conducting separate investigation likely result additional charges police said Inspector Thrower said Mr Gronych Slovenia Canada work visa appear court Thursday delay flight take new crew Sunwing respond requests comment Janine Massey spokeswoman told Associated Press carrier very apologetic upset caused would like assure customers safety remains utmost priority '"
            ]
          },
          "metadata": {
            "tags": []
          },
          "execution_count": 22
        }
      ]
    },
    {
      "cell_type": "code",
      "metadata": {
        "colab": {
          "base_uri": "https://localhost:8080/"
        },
        "id": "OQ6ERBbKHu04",
        "outputId": "0f2434c0-2d19-487b-c3e6-a3a4a48e1103"
      },
      "source": [
        "import nltk\n",
        "nltk.download('punkt')"
      ],
      "execution_count": null,
      "outputs": [
        {
          "output_type": "stream",
          "text": [
            "[nltk_data] Downloading package punkt to /root/nltk_data...\n",
            "[nltk_data]   Unzipping tokenizers/punkt.zip.\n"
          ],
          "name": "stdout"
        },
        {
          "output_type": "execute_result",
          "data": {
            "text/plain": [
              "True"
            ]
          },
          "metadata": {
            "tags": []
          },
          "execution_count": 23
        }
      ]
    },
    {
      "cell_type": "code",
      "metadata": {
        "id": "Nl6UAoqAFMxQ"
      },
      "source": [
        "def token_text(text):\n",
        "  token_text = nltk.word_tokenize(text)\n",
        "  return token_text\n",
        "\n",
        "articles_df['final_text'] = articles_df['final_text'].apply(token_text)"
      ],
      "execution_count": null,
      "outputs": []
    },
    {
      "cell_type": "code",
      "metadata": {
        "id": "O701WogAIj6_"
      },
      "source": [
        "text_lst = list(articles_df['final_text'])"
      ],
      "execution_count": null,
      "outputs": []
    },
    {
      "cell_type": "code",
      "metadata": {
        "id": "xOgE-uNVQig-"
      },
      "source": [
        "text_lst[:2]"
      ],
      "execution_count": null,
      "outputs": []
    },
    {
      "cell_type": "code",
      "metadata": {
        "id": "e73os4yez-zz",
        "colab": {
          "base_uri": "https://localhost:8080/"
        },
        "outputId": "12ee58b7-f656-4f81-f9d3-57dc54fbe249"
      },
      "source": [
        "pip install --upgrade gensim"
      ],
      "execution_count": null,
      "outputs": [
        {
          "output_type": "stream",
          "text": [
            "Collecting gensim\n",
            "\u001b[?25l  Downloading https://files.pythonhosted.org/packages/2b/e0/fa6326251692056dc880a64eb22117e03269906ba55a6864864d24ec8b4e/gensim-3.8.3-cp36-cp36m-manylinux1_x86_64.whl (24.2MB)\n",
            "\u001b[K     |████████████████████████████████| 24.2MB 1.2MB/s \n",
            "\u001b[?25hRequirement already satisfied, skipping upgrade: numpy>=1.11.3 in /usr/local/lib/python3.6/dist-packages (from gensim) (1.19.5)\n",
            "Requirement already satisfied, skipping upgrade: scipy>=0.18.1 in /usr/local/lib/python3.6/dist-packages (from gensim) (1.4.1)\n",
            "Requirement already satisfied, skipping upgrade: smart-open>=1.8.1 in /usr/local/lib/python3.6/dist-packages (from gensim) (4.1.2)\n",
            "Requirement already satisfied, skipping upgrade: six>=1.5.0 in /usr/local/lib/python3.6/dist-packages (from gensim) (1.15.0)\n",
            "Installing collected packages: gensim\n",
            "  Found existing installation: gensim 3.6.0\n",
            "    Uninstalling gensim-3.6.0:\n",
            "      Successfully uninstalled gensim-3.6.0\n",
            "Successfully installed gensim-3.8.3\n"
          ],
          "name": "stdout"
        }
      ]
    },
    {
      "cell_type": "markdown",
      "metadata": {
        "id": "cBQ3xARYQ22e"
      },
      "source": [
        "##  **Genism word2vec Model Training**\n",
        "### We can train the genism word2vec model with our own custom corpus as following:"
      ]
    },
    {
      "cell_type": "code",
      "metadata": {
        "id": "yBxRXBkTQunO"
      },
      "source": [
        "from gensim.models import Word2Vec"
      ],
      "execution_count": null,
      "outputs": []
    },
    {
      "cell_type": "code",
      "metadata": {
        "colab": {
          "base_uri": "https://localhost:8080/"
        },
        "id": "5mKZi4h5Q7qM",
        "outputId": "630c4103-55ef-46ad-b840-12c0cfc1c9a8"
      },
      "source": [
        "model = Word2Vec(text_lst, min_count=1,size= 100,workers=3, window =3, sg = 1)"
      ],
      "execution_count": null,
      "outputs": [
        {
          "output_type": "stream",
          "text": [
            "INFO - 17:54:17: collecting all words and their counts\n",
            "INFO - 17:54:17: PROGRESS: at sentence #0, processed 0 words, keeping 0 word types\n",
            "INFO - 17:54:18: collected 66975 word types from a corpus of 1206685 raw words and 5559 sentences\n",
            "INFO - 17:54:18: Loading a fresh vocabulary\n",
            "INFO - 17:54:18: effective_min_count=1 retains 66975 unique words (100% of original 66975, drops 0)\n",
            "INFO - 17:54:18: effective_min_count=1 leaves 1206685 word corpus (100% of original 1206685, drops 0)\n",
            "INFO - 17:54:18: deleting the raw counts dictionary of 66975 items\n",
            "INFO - 17:54:18: sample=0.001 downsamples 7 most-common words\n",
            "INFO - 17:54:18: downsampling leaves estimated 1192360 word corpus (98.8% of prior 1206685)\n",
            "INFO - 17:54:19: estimated required memory for 66975 words and 100 dimensions: 87067500 bytes\n",
            "INFO - 17:54:19: resetting layer weights\n",
            "INFO - 17:54:32: training model with 3 workers on 66975 vocabulary and 100 features, using sg=1 hs=0 sample=0.001 negative=5 window=3\n",
            "INFO - 17:54:33: EPOCH 1 - PROGRESS: at 15.49% examples, 168039 words/s, in_qsize 5, out_qsize 0\n",
            "INFO - 17:54:34: EPOCH 1 - PROGRESS: at 31.89% examples, 180230 words/s, in_qsize 5, out_qsize 0\n",
            "INFO - 17:54:36: EPOCH 1 - PROGRESS: at 45.78% examples, 174565 words/s, in_qsize 4, out_qsize 1\n",
            "INFO - 17:54:37: EPOCH 1 - PROGRESS: at 62.31% examples, 177286 words/s, in_qsize 5, out_qsize 0\n",
            "INFO - 17:54:38: EPOCH 1 - PROGRESS: at 77.59% examples, 178662 words/s, in_qsize 5, out_qsize 0\n",
            "INFO - 17:54:39: EPOCH 1 - PROGRESS: at 94.78% examples, 181455 words/s, in_qsize 5, out_qsize 0\n",
            "INFO - 17:54:39: worker thread finished; awaiting finish of 2 more threads\n",
            "INFO - 17:54:39: worker thread finished; awaiting finish of 1 more threads\n",
            "INFO - 17:54:39: worker thread finished; awaiting finish of 0 more threads\n",
            "INFO - 17:54:39: EPOCH - 1 : training on 1206685 raw words (1192458 effective words) took 6.6s, 181873 effective words/s\n",
            "INFO - 17:54:40: EPOCH 2 - PROGRESS: at 15.49% examples, 177377 words/s, in_qsize 5, out_qsize 0\n",
            "INFO - 17:54:41: EPOCH 2 - PROGRESS: at 31.89% examples, 183390 words/s, in_qsize 5, out_qsize 0\n",
            "INFO - 17:54:42: EPOCH 2 - PROGRESS: at 46.61% examples, 179016 words/s, in_qsize 4, out_qsize 1\n",
            "INFO - 17:54:43: EPOCH 2 - PROGRESS: at 63.12% examples, 179917 words/s, in_qsize 5, out_qsize 0\n",
            "INFO - 17:54:44: EPOCH 2 - PROGRESS: at 79.98% examples, 182984 words/s, in_qsize 5, out_qsize 0\n",
            "INFO - 17:54:45: EPOCH 2 - PROGRESS: at 95.66% examples, 183321 words/s, in_qsize 5, out_qsize 0\n",
            "INFO - 17:54:45: worker thread finished; awaiting finish of 2 more threads\n",
            "INFO - 17:54:45: worker thread finished; awaiting finish of 1 more threads\n",
            "INFO - 17:54:45: worker thread finished; awaiting finish of 0 more threads\n",
            "INFO - 17:54:45: EPOCH - 2 : training on 1206685 raw words (1192335 effective words) took 6.5s, 184767 effective words/s\n",
            "INFO - 17:54:46: EPOCH 3 - PROGRESS: at 15.49% examples, 169551 words/s, in_qsize 5, out_qsize 0\n",
            "INFO - 17:54:48: EPOCH 3 - PROGRESS: at 31.07% examples, 176760 words/s, in_qsize 4, out_qsize 1\n",
            "INFO - 17:54:49: EPOCH 3 - PROGRESS: at 46.61% examples, 176067 words/s, in_qsize 6, out_qsize 0\n",
            "INFO - 17:54:50: EPOCH 3 - PROGRESS: at 63.12% examples, 179142 words/s, in_qsize 5, out_qsize 0\n",
            "INFO - 17:54:51: EPOCH 3 - PROGRESS: at 77.60% examples, 176835 words/s, in_qsize 6, out_qsize 0\n",
            "INFO - 17:54:52: EPOCH 3 - PROGRESS: at 93.11% examples, 177051 words/s, in_qsize 5, out_qsize 0\n",
            "INFO - 17:54:52: worker thread finished; awaiting finish of 2 more threads\n",
            "INFO - 17:54:52: worker thread finished; awaiting finish of 1 more threads\n",
            "INFO - 17:54:52: worker thread finished; awaiting finish of 0 more threads\n",
            "INFO - 17:54:52: EPOCH - 3 : training on 1206685 raw words (1192264 effective words) took 6.6s, 179734 effective words/s\n",
            "INFO - 17:54:53: EPOCH 4 - PROGRESS: at 13.83% examples, 163485 words/s, in_qsize 5, out_qsize 0\n",
            "INFO - 17:54:54: EPOCH 4 - PROGRESS: at 29.43% examples, 169197 words/s, in_qsize 5, out_qsize 0\n",
            "INFO - 17:54:55: EPOCH 4 - PROGRESS: at 44.97% examples, 174481 words/s, in_qsize 5, out_qsize 0\n",
            "INFO - 17:54:56: EPOCH 4 - PROGRESS: at 60.64% examples, 175575 words/s, in_qsize 5, out_qsize 0\n",
            "INFO - 17:54:57: EPOCH 4 - PROGRESS: at 76.00% examples, 173255 words/s, in_qsize 4, out_qsize 1\n",
            "INFO - 17:54:58: EPOCH 4 - PROGRESS: at 91.47% examples, 175000 words/s, in_qsize 5, out_qsize 0\n",
            "INFO - 17:54:59: worker thread finished; awaiting finish of 2 more threads\n",
            "INFO - 17:54:59: worker thread finished; awaiting finish of 1 more threads\n",
            "INFO - 17:54:59: worker thread finished; awaiting finish of 0 more threads\n",
            "INFO - 17:54:59: EPOCH - 4 : training on 1206685 raw words (1192302 effective words) took 6.8s, 176393 effective words/s\n",
            "INFO - 17:55:00: EPOCH 5 - PROGRESS: at 14.66% examples, 171682 words/s, in_qsize 5, out_qsize 0\n",
            "INFO - 17:55:01: EPOCH 5 - PROGRESS: at 31.07% examples, 177836 words/s, in_qsize 5, out_qsize 0\n",
            "INFO - 17:55:02: EPOCH 5 - PROGRESS: at 47.42% examples, 178153 words/s, in_qsize 5, out_qsize 0\n",
            "INFO - 17:55:03: EPOCH 5 - PROGRESS: at 63.95% examples, 181242 words/s, in_qsize 5, out_qsize 0\n",
            "INFO - 17:55:04: EPOCH 5 - PROGRESS: at 79.19% examples, 180427 words/s, in_qsize 5, out_qsize 0\n",
            "INFO - 17:55:05: EPOCH 5 - PROGRESS: at 94.78% examples, 181211 words/s, in_qsize 5, out_qsize 0\n",
            "INFO - 17:55:05: worker thread finished; awaiting finish of 2 more threads\n",
            "INFO - 17:55:05: worker thread finished; awaiting finish of 1 more threads\n",
            "INFO - 17:55:05: worker thread finished; awaiting finish of 0 more threads\n",
            "INFO - 17:55:05: EPOCH - 5 : training on 1206685 raw words (1192414 effective words) took 6.5s, 182200 effective words/s\n",
            "INFO - 17:55:05: training on a 6033425 raw words (5961773 effective words) took 33.0s, 180776 effective words/s\n"
          ],
          "name": "stderr"
        }
      ]
    },
    {
      "cell_type": "code",
      "metadata": {
        "colab": {
          "base_uri": "https://localhost:8080/"
        },
        "id": "NUWB5jmdRmQQ",
        "outputId": "814cce54-729d-4d34-d823-bbf6ec6d7c98"
      },
      "source": [
        "model['International']"
      ],
      "execution_count": null,
      "outputs": [
        {
          "output_type": "execute_result",
          "data": {
            "text/plain": [
              "array([ 0.09590776,  0.4978551 , -0.09654199,  0.02307393,  0.19671842,\n",
              "        0.22009912, -0.1320167 ,  0.05476198,  0.09487426,  0.23490928,\n",
              "        0.03893372,  0.5334686 ,  0.13469453, -0.13136019, -0.23529159,\n",
              "        0.23690389, -0.260326  ,  0.11296713, -0.6209226 ,  0.11032176,\n",
              "       -0.46667993,  0.1298537 , -0.02849241,  0.30713814, -0.25627935,\n",
              "        0.17045671, -0.00954488, -0.26876333,  0.19394001,  0.47309148,\n",
              "       -0.13391952, -0.30251643, -0.43056673,  0.10412938, -0.385339  ,\n",
              "       -0.3516228 , -0.49851793, -0.08667868, -0.33947444, -0.18749401,\n",
              "        0.06414967,  0.00249913,  0.04558928, -0.13226691, -0.2663687 ,\n",
              "       -0.06778715, -0.17371224, -0.26884678, -0.06747162, -0.459194  ,\n",
              "       -0.2464387 , -0.34841245, -0.21581028, -0.09476356,  0.17104675,\n",
              "       -0.01887847,  0.2622496 , -0.35705176, -0.7318792 ,  0.4352333 ,\n",
              "        0.07594933, -0.2102076 ,  0.39338958,  0.10364138, -0.12804744,\n",
              "       -0.11102927, -0.18253286,  0.30312583,  0.06132092,  0.26123303,\n",
              "        0.19458756,  0.11646265, -0.03615813, -0.01483221, -0.47881627,\n",
              "        0.31034902,  0.41524833,  0.07096124, -0.00494468, -0.07289454,\n",
              "        0.18243122, -0.6376698 ,  0.682452  ,  0.11830463, -0.19303998,\n",
              "        0.275606  , -0.07502449,  0.19360396,  0.48216787,  0.25550765,\n",
              "        0.06819922, -0.511667  ,  0.24122265, -0.18195567,  0.18387373,\n",
              "       -0.64942056,  0.10877926,  0.09845505, -0.18854025, -0.19138779],\n",
              "      dtype=float32)"
            ]
          },
          "metadata": {
            "tags": []
          },
          "execution_count": 45
        }
      ]
    },
    {
      "cell_type": "markdown",
      "metadata": {
        "id": "XiPudrXhSshg"
      },
      "source": [
        "## **Compute Similarities**"
      ]
    },
    {
      "cell_type": "code",
      "metadata": {
        "colab": {
          "base_uri": "https://localhost:8080/"
        },
        "id": "ratw6z8jR-G3",
        "outputId": "aff03fbe-f59f-40a9-e038-528f9637e530"
      },
      "source": [
        "model.similarity('aircraft', 'International')"
      ],
      "execution_count": null,
      "outputs": [
        {
          "output_type": "execute_result",
          "data": {
            "text/plain": [
              "0.53634036"
            ]
          },
          "metadata": {
            "tags": []
          },
          "execution_count": 46
        }
      ]
    },
    {
      "cell_type": "code",
      "metadata": {
        "colab": {
          "base_uri": "https://localhost:8080/"
        },
        "id": "jsd7encjSr-X",
        "outputId": "a78c8a37-561b-42ea-8598-591e08d6a99a"
      },
      "source": [
        "model.similarity('International', 'International')\n",
        "#It should give 1."
      ],
      "execution_count": null,
      "outputs": [
        {
          "output_type": "execute_result",
          "data": {
            "text/plain": [
              "1.0"
            ]
          },
          "metadata": {
            "tags": []
          },
          "execution_count": 47
        }
      ]
    },
    {
      "cell_type": "markdown",
      "metadata": {
        "id": "BgIJ-IjsT1os"
      },
      "source": [
        "## **Find 5 most simliar of a given word.**"
      ]
    },
    {
      "cell_type": "code",
      "metadata": {
        "id": "893G98wST6vL"
      },
      "source": [
        "def similiar(word):\n",
        "  sml = model.most_similar(word)\n",
        "  return sml[:5]"
      ],
      "execution_count": null,
      "outputs": []
    },
    {
      "cell_type": "code",
      "metadata": {
        "colab": {
          "base_uri": "https://localhost:8080/"
        },
        "id": "Gv6xxGpATKUV",
        "outputId": "a2af00c4-dff5-4415-8da1-1555dfd34285"
      },
      "source": [
        "#International\n",
        "similiar('International')"
      ],
      "execution_count": null,
      "outputs": [
        {
          "output_type": "stream",
          "text": [
            "INFO - 17:55:24: precomputing L2-norms of word weight vectors\n"
          ],
          "name": "stderr"
        },
        {
          "output_type": "execute_result",
          "data": {
            "text/plain": [
              "[('Regional', 0.8937653303146362),\n",
              " ('Studies', 0.8848621845245361),\n",
              " ('Space', 0.8843145966529846),\n",
              " ('Strategic', 0.8836016654968262),\n",
              " ('Science', 0.8799276351928711)]"
            ]
          },
          "metadata": {
            "tags": []
          },
          "execution_count": 49
        }
      ]
    },
    {
      "cell_type": "code",
      "metadata": {
        "colab": {
          "base_uri": "https://localhost:8080/"
        },
        "id": "kCO2iUsOTrNK",
        "outputId": "ac486fa7-ab43-4cee-ee5f-24847923209b"
      },
      "source": [
        "similiar('aircraft')"
      ],
      "execution_count": null,
      "outputs": [
        {
          "output_type": "execute_result",
          "data": {
            "text/plain": [
              "[('Iraqs', 0.9218901991844177),\n",
              " ('ships', 0.9160820245742798),\n",
              " ('missiles', 0.9160263538360596),\n",
              " ('Libyan', 0.9148445129394531),\n",
              " ('centres', 0.9146201014518738)]"
            ]
          },
          "metadata": {
            "tags": []
          },
          "execution_count": 50
        }
      ]
    },
    {
      "cell_type": "code",
      "metadata": {
        "colab": {
          "base_uri": "https://localhost:8080/"
        },
        "id": "d-a7dtpZUcSu",
        "outputId": "e89fbe20-f326-43bb-9b3a-44341f2ef44a"
      },
      "source": [
        "similiar('Mexico')"
      ],
      "execution_count": null,
      "outputs": [
        {
          "output_type": "execute_result",
          "data": {
            "text/plain": [
              "[('southern', 0.8388959169387817),\n",
              " ('Canada', 0.8291523456573486),\n",
              " ('border', 0.824154257774353),\n",
              " ('crossing', 0.8178645372390747),\n",
              " ('crossed', 0.7912918329238892)]"
            ]
          },
          "metadata": {
            "tags": []
          },
          "execution_count": 51
        }
      ]
    },
    {
      "cell_type": "markdown",
      "metadata": {
        "id": "SZbTKHynUuX-"
      },
      "source": [
        "### However, Euclidian similarity cannot work well for the high-dimensional word vectors. This is because Euclidian similarity will increase as the number of dimensions increases, even if the word embedding stands for different meanings. Alternatively, we can use cosine similarity to measure the similarity between two vectors. Mathematically, it measures the cosine of the angle between two vectors projected in a multi-dimensional space. The cosine similarity captures the angle of the word vectors and not the magnitude. Under cosine similarity, no similarity is expressed as a 90-degree angle while the total similarity of 1 is at a 0-degree angle."
      ]
    },
    {
      "cell_type": "markdown",
      "metadata": {
        "id": "Dwg3g4HnUz_M"
      },
      "source": [
        "## **Cosine Similiarity**\n",
        "\n",
        "---\n",
        "\n"
      ]
    },
    {
      "cell_type": "code",
      "metadata": {
        "id": "vCjA_uMabVd1"
      },
      "source": [
        "lst1=[]\n",
        "for ele in text_lst:\n",
        "  for i in ele:\n",
        "    lst1.append(i)\n",
        "lst1 = list(set(lst1))"
      ],
      "execution_count": null,
      "outputs": []
    },
    {
      "cell_type": "code",
      "metadata": {
        "colab": {
          "base_uri": "https://localhost:8080/"
        },
        "id": "Dly2T_V4cEd1",
        "outputId": "4143cb08-98ca-4db9-ff1c-a33fc3fdeb6c"
      },
      "source": [
        "len(lst1)"
      ],
      "execution_count": null,
      "outputs": [
        {
          "output_type": "execute_result",
          "data": {
            "text/plain": [
              "66975"
            ]
          },
          "metadata": {
            "tags": []
          },
          "execution_count": 53
        }
      ]
    },
    {
      "cell_type": "code",
      "metadata": {
        "id": "5WbFusUebHko"
      },
      "source": [
        "def cosine_distance(model, word,target_list , num):\n",
        "    cosine_dict ={}\n",
        "    word_list = []\n",
        "    a = model[word]\n",
        "    for item in target_list :\n",
        "        if item != word :\n",
        "            b = model [item]\n",
        "            cos_sim = dot(a, b)/(norm(a)*norm(b))\n",
        "            cosine_dict[item] = cos_sim\n",
        "    dist_sort=sorted(cosine_dict.items(), key=lambda dist: dist[1],reverse = True) ## in Descedning order \n",
        "    for item in dist_sort:\n",
        "        word_list.append((item[0], item[1]))\n",
        "    return word_list[0:num]"
      ],
      "execution_count": null,
      "outputs": []
    },
    {
      "cell_type": "code",
      "metadata": {
        "colab": {
          "base_uri": "https://localhost:8080/"
        },
        "id": "RzzRdqtnUnxv",
        "outputId": "e8abad6c-016d-4bb5-b6c3-6d9edbf183ff"
      },
      "source": [
        "## Show the most similar Mercedes-Benz SLK-Class by cosine distance \n",
        "cosine_distance(model,'aircraft',lst1,5)"
      ],
      "execution_count": null,
      "outputs": [
        {
          "output_type": "execute_result",
          "data": {
            "text/plain": [
              "[('Iraqs', 0.92189014),\n",
              " ('ships', 0.9160821),\n",
              " ('missiles', 0.91602635),\n",
              " ('Libyan', 0.91484433),\n",
              " ('centres', 0.91462016)]"
            ]
          },
          "metadata": {
            "tags": []
          },
          "execution_count": 55
        }
      ]
    },
    {
      "cell_type": "markdown",
      "metadata": {
        "id": "gVZwVpQ2iiEW"
      },
      "source": [
        "## Here We are getting similiar word....."
      ]
    },
    {
      "cell_type": "markdown",
      "metadata": {
        "id": "WeCpKKtFqDEd"
      },
      "source": [
        "## **T-SNE Visualizations for Gensim**"
      ]
    },
    {
      "cell_type": "code",
      "metadata": {
        "id": "Gwoi_Xf3pTsl"
      },
      "source": [
        "def display_closestwords_tsnescatterplot(model, word, size):\n",
        "    \n",
        "    arr = np.empty((0,size), dtype='f')\n",
        "    word_labels = [word]\n",
        "\n",
        "    close_words = model.similar_by_word(word)\n",
        "\n",
        "    arr = np.append(arr, np.array([model[word]]), axis=0)\n",
        "    for wrd_score in close_words:\n",
        "        wrd_vector = model[wrd_score[0]]\n",
        "        word_labels.append(wrd_score[0])\n",
        "        arr = np.append(arr, np.array([wrd_vector]), axis=0)\n",
        "        \n",
        "    tsne = TSNE(n_components=2, random_state=0)\n",
        "    np.set_printoptions(suppress=True)\n",
        "    Y = tsne.fit_transform(arr)\n",
        "\n",
        "    x_coords = Y[:, 0]\n",
        "    y_coords = Y[:, 1]\n",
        "    plt.scatter(x_coords, y_coords,edgecolors='face',marker = 'o')\n",
        "\n",
        "    for label, x, y in zip(word_labels, x_coords, y_coords):\n",
        "        plt.annotate(label, xy=(x, y), xytext=(0, 0), textcoords='offset points')\n",
        "    plt.xlim(x_coords.min()+0.00005, x_coords.max()+0.00005)\n",
        "    plt.ylim(y_coords.min()+0.00005, y_coords.max()+0.00005)\n",
        "    plt.show()"
      ],
      "execution_count": null,
      "outputs": []
    },
    {
      "cell_type": "code",
      "metadata": {
        "colab": {
          "base_uri": "https://localhost:8080/",
          "height": 436
        },
        "id": "9zbuCv9vqLX7",
        "outputId": "ac1ea18e-4a49-41a3-a654-37a073f98545"
      },
      "source": [
        "plt.figure(figsize=(8,7))\n",
        "display_closestwords_tsnescatterplot(model, 'aircraft', 100)"
      ],
      "execution_count": null,
      "outputs": [
        {
          "output_type": "display_data",
          "data": {
            "image/png": "[encoded data removed]",
            "text/plain": [
              "<Figure size 576x504 with 1 Axes>"
            ]
          },
          "metadata": {
            "tags": [],
            "needs_background": "light"
          }
        }
      ]
    }
  ]
}