{
  "nbformat": 4,
  "nbformat_minor": 0,
  "metadata": {
    "colab": {
      "name": "Automated Question-Answering System -Team1 - Capstone Project.ipynb",
      "provenance": [],
      "authorship_tag": "ABX9TyMdstrBbzyqX9jGhPCy8NVg",
      "include_colab_link": true
    },
    "kernelspec": {
      "name": "python3",
      "display_name": "Python 3"
    },
    "language_info": {
      "name": "python"
    }
  },
  "cells": [
    {
      "cell_type": "markdown",
      "metadata": {
        "id": "view-in-github",
        "colab_type": "text"
      },
      "source": [
        "<a href=\"https://colab.research.google.com/github/Dilavarj7/Automated-Question-Answering-System--Team1---Capstone-Project/blob/main/Automated_Question_Answering_System_Team1_Capstone_Project.ipynb\" target=\"_parent\"><img src=\"https://colab.research.google.com/assets/colab-badge.svg\" alt=\"Open In Colab\"/></a>"
      ]
    },
    {
      "cell_type": "markdown",
      "metadata": {
        "id": "GluC4cH31uz4"
      },
      "source": [
        "# **Problem Statement**\n",
        "We will solve the above-mentioned challenge by applying deep learning algorithms to textual data.\n",
        "The solution to this problem can be obtained through Extractive Question Answering wherein we can\n",
        "extract an answer from a text given the question.\n",
        "###1.2.1 Topic Modelling\n",
        "This is a theme extraction task on a collection of Data Science specific documents which can be done\n",
        "via Latent Dirichlet Allocation (LDA). The topic model should identify the important themes of a\n",
        "document and list down the top-N constituent words of the themes/topics.\n",
        "###1.2.2 Extractive Question Answering\n",
        "Extractive Question Answering is the task of extracting an answer from a text given a question. The\n",
        "text would essentially be the group of documents that have the highest concentration of the topic\n",
        "closest to the asked question.\n"
      ]
    },
    {
      "cell_type": "markdown",
      "metadata": {
        "id": "YC_M4lSR2BVh"
      },
      "source": [
        "## **1.2.2.1 Head-start References**\n",
        "❖ https://scikit-learn.org/stable/modules/generated/sklearn.decomposition.LatentDirichletAll\n",
        "ocation.html\n",
        "<br>❖ https://pyldavis.readthedocs.io/en/latest/readme.html\n",
        "<br>❖ https://huggingface.co/transformers/usage.html#extractive-question-answering\n",
        "###NOTE - The solution should not be limited to the above references; students are encouraged to read relevant research papers.\n",
        "### 1.3 Scope of project\n",
        "<br>A. The topic model should be able to identify/extract important topics.\n",
        "<br>B. The topic model would be built on the corpus of Data Science documents.\n",
        "<br>C. The topic model should yield the most relevant and stable topics measured through the\n",
        "perplexity score.\n",
        "<br>D. Once the relevant documents have been retrieved, the extractive question answering\n",
        "<br>model would generate the answer for the question.\n",
        "<br>E. The entire dual-model pipeline would be deployed in AWS/GCP/Azure\n",
        "<br>F. The dual-model pipeline must be accessible via a web application(Streamlit) for demo\n",
        "purpose.\n"
      ]
    }
  ]
}